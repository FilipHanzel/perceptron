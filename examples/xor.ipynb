{
 "cells": [
  {
   "cell_type": "markdown",
   "metadata": {},
   "source": [
    "# XOR binary classification problem"
   ]
  },
  {
   "cell_type": "code",
   "execution_count": 1,
   "metadata": {},
   "outputs": [],
   "source": [
    "import sys\n",
    "import os\n",
    "import random\n",
    "import csv\n",
    "from pprint import pprint\n",
    "\n",
    "from matplotlib import pyplot as plt\n",
    "\n",
    "module_path = os.path.abspath(\"..\")\n",
    "sys.path.append(module_path)\n",
    "\n",
    "from perceptron import Perceptron, cross_validation\n"
   ]
  },
  {
   "cell_type": "code",
   "execution_count": 2,
   "metadata": {},
   "outputs": [],
   "source": [
    "features = [\n",
    "    [0, 0],\n",
    "    [0, 1],\n",
    "    [1, 0],\n",
    "    [1, 1],\n",
    "]\n",
    "targets = [[0], [1], [1], [0]]\n"
   ]
  },
  {
   "cell_type": "markdown",
   "metadata": {},
   "source": [
    "# Single layer model"
   ]
  },
  {
   "cell_type": "code",
   "execution_count": 3,
   "metadata": {},
   "outputs": [
    {
     "name": "stderr",
     "output_type": "stream",
     "text": [
      "Training: 100% |████████████████████████████████████████| 25/25, binary_accuracy=0.75, mae=0.49, sse=1.33\n"
     ]
    },
    {
     "data": {
      "image/png": "[encoded data removed]",
      "text/plain": [
       "<Figure size 720x360 with 1 Axes>"
      ]
     },
     "metadata": {
      "needs_background": "light"
     },
     "output_type": "display_data"
    }
   ],
   "source": [
    "random.seed(0)\n",
    "\n",
    "model = Perceptron(\n",
    "    inputs=2,\n",
    "    layer_sizes=[1],\n",
    "    activations=\"leaky_relu\",\n",
    "    init_method=\"he\",\n",
    "    optimizer=\"momentum\",\n",
    ")\n",
    "\n",
    "epochs = 25\n",
    "\n",
    "history = model.train(\n",
    "    training_inputs=features,\n",
    "    training_targets=targets,\n",
    "    epochs=epochs,\n",
    "    base_learning_rate=0.1,\n",
    "    learning_rate_decay=\"exponential\",\n",
    "    metrics=[\"binary_accuracy\", \"sse\", \"mae\"],\n",
    ")\n",
    "\n",
    "fig = plt.figure(figsize=(10, 5))\n",
    "ax = fig.add_subplot()\n",
    "\n",
    "ax.plot(range(epochs + 1), history[\"binary_accuracy\"], label=\"binary_accuracy\")\n",
    "\n",
    "ax.set_ylim(bottom=0, top=1.1)\n",
    "ax.grid()\n",
    "ax.legend()\n",
    "plt.show()\n"
   ]
  },
  {
   "cell_type": "markdown",
   "metadata": {},
   "source": [
    "# Multi-layer model"
   ]
  },
  {
   "cell_type": "code",
   "execution_count": 4,
   "metadata": {},
   "outputs": [
    {
     "name": "stderr",
     "output_type": "stream",
     "text": [
      "Training: 100% |████████████████████████████████████████| 25/25, binary_accuracy=1, mae=0.167, sse=0.112  \n"
     ]
    },
    {
     "data": {
      "image/png": "[encoded data removed]",
      "text/plain": [
       "<Figure size 720x360 with 1 Axes>"
      ]
     },
     "metadata": {
      "needs_background": "light"
     },
     "output_type": "display_data"
    }
   ],
   "source": [
    "random.seed(0)\n",
    "\n",
    "model = Perceptron(\n",
    "    inputs=2,\n",
    "    layer_sizes=[8, 1],\n",
    "    activations=\"leaky_relu\",\n",
    "    init_method=\"he\",\n",
    "    optimizer=\"adam\",\n",
    ")\n",
    "\n",
    "epochs = 25\n",
    "\n",
    "history = model.train(\n",
    "    training_inputs=features,\n",
    "    training_targets=targets,\n",
    "    epochs=epochs,\n",
    "    base_learning_rate=0.1,\n",
    "    learning_rate_decay=\"linear\",\n",
    "    metrics=[\"binary_accuracy\", \"sse\", \"mae\"],\n",
    ")\n",
    "\n",
    "fig = plt.figure(figsize=(10, 5))\n",
    "ax = fig.add_subplot()\n",
    "\n",
    "ax.plot(range(epochs + 1), history[\"binary_accuracy\"], label=\"binary_accuracy\")\n",
    "\n",
    "ax.set_ylim(bottom=0, top=1.1)\n",
    "ax.grid()\n",
    "ax.legend()\n",
    "plt.show()\n"
   ]
  }
 ],
 "metadata": {
  "interpreter": {
   "hash": "80d5b8c49f216e1dae85a4753632a419cb5ffdacc22b7f244465427e44fc8ba1"
  },
  "kernelspec": {
   "display_name": "Python 3.8.5 64-bit",
   "language": "python",
   "name": "python3"
  },
  "language_info": {
   "codemirror_mode": {
    "name": "ipython",
    "version": 3
   },
   "file_extension": ".py",
   "mimetype": "text/x-python",
   "name": "python",
   "nbconvert_exporter": "python",
   "pygments_lexer": "ipython3",
   "version": "3.8.5"
  },
  "orig_nbformat": 4
 },
 "nbformat": 4,
 "nbformat_minor": 2
}
